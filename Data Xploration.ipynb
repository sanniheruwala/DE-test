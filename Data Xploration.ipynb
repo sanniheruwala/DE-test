{
 "cells": [
  {
   "cell_type": "code",
   "execution_count": 113,
   "id": "f5b84e14",
   "metadata": {},
   "outputs": [],
   "source": [
    "from pyspark import SparkContext\n",
    "from pyspark import SparkConf\n",
    "from pyspark.sql import SparkSession\n",
    "from pyspark.sql.functions import col,udf,lit,lower,unix_timestamp,count,coalesce, regexp_extract,year,when,lit,avg\n",
    "from pyspark.sql.window import Window\n",
    "import os "
   ]
  },
  {
   "cell_type": "code",
   "execution_count": 2,
   "id": "949c6166",
   "metadata": {},
   "outputs": [
    {
     "name": "stderr",
     "output_type": "stream",
     "text": [
      "21/12/04 15:00:22 WARN Utils: Your hostname, Sannis-MacBook-Pro.local resolves to a loopback address: 127.0.0.1; using 192.168.29.191 instead (on interface en0)\n",
      "21/12/04 15:00:22 WARN Utils: Set SPARK_LOCAL_IP if you need to bind to another address\n",
      "21/12/04 15:00:23 WARN NativeCodeLoader: Unable to load native-hadoop library for your platform... using builtin-java classes where applicable\n",
      "Using Spark's default log4j profile: org/apache/spark/log4j-defaults.properties\n",
      "Setting default log level to \"WARN\".\n",
      "To adjust logging level use sc.setLogLevel(newLevel). For SparkR, use setLogLevel(newLevel).\n"
     ]
    }
   ],
   "source": [
    "spark = SparkSession.builder.master(\"local\").appName(\"HelloFreshTest\").getOrCreate()"
   ]
  },
  {
   "cell_type": "code",
   "execution_count": 197,
   "id": "a2b96028",
   "metadata": {},
   "outputs": [],
   "source": [
    "path = 'cooking_etl/src/input/'"
   ]
  },
  {
   "cell_type": "code",
   "execution_count": 205,
   "id": "844bdaed",
   "metadata": {},
   "outputs": [],
   "source": [
    "df = spark.read.json(path).drop(col(\"image\")).drop(col(\"url\")).drop(\"description\")"
   ]
  },
  {
   "cell_type": "code",
   "execution_count": 206,
   "id": "c7da9085",
   "metadata": {},
   "outputs": [
    {
     "name": "stderr",
     "output_type": "stream",
     "text": [
      "\r",
      "[Stage 226:>                                                        (0 + 1) / 1]\r"
     ]
    },
    {
     "name": "stdout",
     "output_type": "stream",
     "text": [
      "+-------+--------+-------------+--------------------+--------------------+--------+-----------------+\n",
      "|summary|cookTime|datePublished|         ingredients|                name|prepTime|      recipeYield|\n",
      "+-------+--------+-------------+--------------------+--------------------+--------+-----------------+\n",
      "|  count|    1042|         1042|                1042|                1042|    1042|             1042|\n",
      "|   mean|    null|         null|                null|                null|    null|9.738404452690167|\n",
      "| stddev|    null|         null|                null|                null|    null|6.529901914334942|\n",
      "|    min|        |   2003-05-27| (Quantities Depe...|                    |        |                 |\n",
      "|    25%|    null|         null|                null|                null|    null|              6.0|\n",
      "|    50%|    null|         null|                null|                null|    null|              8.0|\n",
      "|    75%|    null|         null|                null|                null|    null|             12.0|\n",
      "|    max|    PT9M|   2013-04-01|~1 1/2 cups (7 ou...|Zucchini Ricotta ...|  PT950M|      Serves six.|\n",
      "+-------+--------+-------------+--------------------+--------------------+--------+-----------------+\n",
      "\n"
     ]
    },
    {
     "name": "stderr",
     "output_type": "stream",
     "text": [
      "\r",
      "                                                                                \r"
     ]
    }
   ],
   "source": [
    "df.summary().show()"
   ]
  },
  {
   "cell_type": "code",
   "execution_count": 130,
   "id": "33b4c28a",
   "metadata": {},
   "outputs": [
    {
     "name": "stdout",
     "output_type": "stream",
     "text": [
      "root\n",
      " |-- cookTime: string (nullable = true)\n",
      " |-- datePublished: string (nullable = true)\n",
      " |-- description: string (nullable = true)\n",
      " |-- image: string (nullable = true)\n",
      " |-- ingredients: string (nullable = true)\n",
      " |-- name: string (nullable = true)\n",
      " |-- prepTime: string (nullable = true)\n",
      " |-- recipeYield: string (nullable = true)\n",
      " |-- url: string (nullable = true)\n",
      "\n"
     ]
    }
   ],
   "source": [
    "df.printSchema()"
   ]
  },
  {
   "cell_type": "code",
   "execution_count": 131,
   "id": "25e696cc",
   "metadata": {},
   "outputs": [
    {
     "name": "stdout",
     "output_type": "stream",
     "text": [
      "+--------+--------+\n",
      "|prepTime|count(1)|\n",
      "+--------+--------+\n",
      "|    PT2M|       7|\n",
      "|   PT15M|     137|\n",
      "|    PT1H|      11|\n",
      "|   PT24H|       3|\n",
      "|  PT950M|       1|\n",
      "|    PT5M|     108|\n",
      "|    PT6M|       1|\n",
      "|    PT3M|       2|\n",
      "|      PT|       3|\n",
      "|    PT1M|       5|\n",
      "|   PT40M|       5|\n",
      "|   PT20M|      99|\n",
      "| PT1H15M|       1|\n",
      "|    PT6H|       3|\n",
      "|   PT60M|       7|\n",
      "|    PT4H|       4|\n",
      "|   PT18H|       1|\n",
      "|  PT900M|       1|\n",
      "|   PT65M|       1|\n",
      "|   PT35M|       3|\n",
      "+--------+--------+\n",
      "only showing top 20 rows\n",
      "\n"
     ]
    },
    {
     "name": "stderr",
     "output_type": "stream",
     "text": [
      "\r",
      "[Stage 134:=============================>                         (50 + 1) / 94]\r",
      "\r",
      "                                                                                \r"
     ]
    }
   ],
   "source": [
    "df.groupBy(\"prepTime\").agg(count(\"*\")).show()"
   ]
  },
  {
   "cell_type": "code",
   "execution_count": 132,
   "id": "63a6f47e",
   "metadata": {},
   "outputs": [
    {
     "name": "stdout",
     "output_type": "stream",
     "text": [
      "+--------------------------------------------+--------+\n",
      "|recipeYield                                 |count(1)|\n",
      "+--------------------------------------------+--------+\n",
      "|Makes four sandwiches.                      |1       |\n",
      "|Serves about 4 - 6 as a side.               |1       |\n",
      "|Makes two mega scones.                      |1       |\n",
      "|Makes about 1 1/2 to 2 cups of puree.       |1       |\n",
      "|7                                           |1       |\n",
      "|Serves 2 - 4.                               |4       |\n",
      "|Makes ~1 1/2 cups of spread.                |1       |\n",
      "|Makes 18 - 24 medium cookies.               |1       |\n",
      "|Makes a big pot - enough for 8 -10 servings.|1       |\n",
      "|Serves 12 - 16 modest slices.               |1       |\n",
      "|Makes 2 dozen wide-cut fries.               |1       |\n",
      "|Serves about 12.                            |2       |\n",
      "|Makes one generous, family-style platter.   |1       |\n",
      "|Makes one carrot cake.                      |1       |\n",
      "|Serves 6 or more.                           |1       |\n",
      "|Makes ~2/3 cup.                             |1       |\n",
      "|Serves 2 - 3 as a main, 4 as a side         |1       |\n",
      "|Serves about 8.                             |3       |\n",
      "|3                                           |3       |\n",
      "|Makes one 9 or 10-inch pie.                 |1       |\n",
      "+--------------------------------------------+--------+\n",
      "only showing top 20 rows\n",
      "\n"
     ]
    }
   ],
   "source": [
    "df.groupBy(\"recipeYield\").agg(count(\"*\")).show(truncate=False)"
   ]
  },
  {
   "cell_type": "code",
   "execution_count": 133,
   "id": "4cf2601d",
   "metadata": {},
   "outputs": [
    {
     "data": {
      "text/plain": [
       "1042"
      ]
     },
     "execution_count": 133,
     "metadata": {},
     "output_type": "execute_result"
    }
   ],
   "source": [
    "df.count()"
   ]
  },
  {
   "cell_type": "code",
   "execution_count": 134,
   "id": "a95d72a0",
   "metadata": {},
   "outputs": [],
   "source": [
    "beefDF = df.filter(lower(col(\"ingredients\")).contains(\"beef\"))"
   ]
  },
  {
   "cell_type": "code",
   "execution_count": 135,
   "id": "dca0c1d5",
   "metadata": {},
   "outputs": [
    {
     "data": {
      "text/plain": [
       "47"
      ]
     },
     "execution_count": 135,
     "metadata": {},
     "output_type": "execute_result"
    }
   ],
   "source": [
    "beefDF.count()"
   ]
  },
  {
   "cell_type": "code",
   "execution_count": 136,
   "id": "2a6eb705",
   "metadata": {},
   "outputs": [
    {
     "name": "stdout",
     "output_type": "stream",
     "text": [
      "+--------+-------------+-----------+-----+-----------+----+--------+-----------+---+\n",
      "|cookTime|datePublished|description|image|ingredients|name|prepTime|recipeYield|url|\n",
      "+--------+-------------+-----------+-----+-----------+----+--------+-----------+---+\n",
      "+--------+-------------+-----------+-----+-----------+----+--------+-----------+---+\n",
      "\n"
     ]
    }
   ],
   "source": [
    "df.where(col(\"ingredients\").isNull() | (col(\"ingredients\")==\"\")).show()"
   ]
  },
  {
   "cell_type": "code",
   "execution_count": 137,
   "id": "6d9b46b5",
   "metadata": {},
   "outputs": [],
   "source": [
    "from pyspark.sql.types import DateType, StringType, StructField, StructType\n",
    "\n",
    "\n",
    "class RecipeSchema:\n",
    "    RECIPE = StructType(\n",
    "        [\n",
    "            StructField(\"name\", StringType(), nullable=False),\n",
    "            StructField(\"ingredients\", StringType(), nullable=False),\n",
    "            StructField(\"url\", StringType()),\n",
    "            StructField(\"image\", StringType()),\n",
    "            StructField(\"cookTime\", StringType()),\n",
    "            StructField(\"recipeYield\", StringType()),\n",
    "            StructField(\"datePublished\", DateType()),\n",
    "            StructField(\"prepTime\", StringType()),\n",
    "            StructField(\"description\", StringType()),\n",
    "        ]\n",
    "    )"
   ]
  },
  {
   "cell_type": "code",
   "execution_count": 138,
   "id": "21323e82",
   "metadata": {},
   "outputs": [],
   "source": [
    "df = spark.read.json(path, schema=RecipeSchema.RECIPE).withColumn('year',year(col('datePublished')))"
   ]
  },
  {
   "cell_type": "code",
   "execution_count": 139,
   "id": "f65e5724",
   "metadata": {},
   "outputs": [
    {
     "name": "stdout",
     "output_type": "stream",
     "text": [
      "root\n",
      " |-- name: string (nullable = true)\n",
      " |-- ingredients: string (nullable = true)\n",
      " |-- url: string (nullable = true)\n",
      " |-- image: string (nullable = true)\n",
      " |-- cookTime: string (nullable = true)\n",
      " |-- recipeYield: string (nullable = true)\n",
      " |-- datePublished: date (nullable = true)\n",
      " |-- prepTime: string (nullable = true)\n",
      " |-- description: string (nullable = true)\n",
      " |-- year: integer (nullable = true)\n",
      "\n"
     ]
    }
   ],
   "source": [
    "df.printSchema()"
   ]
  },
  {
   "cell_type": "code",
   "execution_count": 141,
   "id": "37b841c8",
   "metadata": {},
   "outputs": [
    {
     "name": "stdout",
     "output_type": "stream",
     "text": [
      "+----+--------+\n",
      "|year|count(1)|\n",
      "+----+--------+\n",
      "|2003|       4|\n",
      "|2007|      94|\n",
      "|2006|      35|\n",
      "|2013|      36|\n",
      "|2004|      12|\n",
      "|2012|     137|\n",
      "|2009|     172|\n",
      "|2005|      44|\n",
      "|2010|     170|\n",
      "|2011|     157|\n",
      "|2008|     181|\n",
      "+----+--------+\n",
      "\n"
     ]
    }
   ],
   "source": [
    "df.groupBy(\"year\").agg(count(\"*\")).show()"
   ]
  },
  {
   "cell_type": "code",
   "execution_count": null,
   "id": "d5202ce2",
   "metadata": {},
   "outputs": [],
   "source": []
  }
 ],
 "metadata": {
  "kernelspec": {
   "display_name": "Python 3 (ipykernel)",
   "language": "python",
   "name": "python3"
  },
  "language_info": {
   "codemirror_mode": {
    "name": "ipython",
    "version": 3
   },
   "file_extension": ".py",
   "mimetype": "text/x-python",
   "name": "python",
   "nbconvert_exporter": "python",
   "pygments_lexer": "ipython3",
   "version": "3.9.8"
  }
 },
 "nbformat": 4,
 "nbformat_minor": 5
}
