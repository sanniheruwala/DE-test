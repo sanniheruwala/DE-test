{
 "cells": [
  {
   "cell_type": "code",
   "execution_count": 113,
   "id": "c906d606",
   "metadata": {},
   "outputs": [],
   "source": [
    "from pyspark import SparkContext\n",
    "from pyspark import SparkConf\n",
    "from pyspark.sql import SparkSession\n",
    "from pyspark.sql.functions import col,udf,lit,lower,unix_timestamp,count,coalesce, regexp_extract,year,when,lit,avg\n",
    "from pyspark.sql.window import Window\n",
    "import os "
   ]
  },
  {
   "cell_type": "code",
   "execution_count": 2,
   "id": "d75e8486",
   "metadata": {},
   "outputs": [
    {
     "name": "stderr",
     "output_type": "stream",
     "text": [
      "21/12/04 15:00:22 WARN Utils: Your hostname, Sannis-MacBook-Pro.local resolves to a loopback address: 127.0.0.1; using 192.168.29.191 instead (on interface en0)\n",
      "21/12/04 15:00:22 WARN Utils: Set SPARK_LOCAL_IP if you need to bind to another address\n",
      "21/12/04 15:00:23 WARN NativeCodeLoader: Unable to load native-hadoop library for your platform... using builtin-java classes where applicable\n",
      "Using Spark's default log4j profile: org/apache/spark/log4j-defaults.properties\n",
      "Setting default log level to \"WARN\".\n",
      "To adjust logging level use sc.setLogLevel(newLevel). For SparkR, use setLogLevel(newLevel).\n"
     ]
    }
   ],
   "source": [
    "spark = SparkSession.builder.master(\"local\").appName(\"HelloFreshTest\").getOrCreate()"
   ]
  },
  {
   "cell_type": "code",
   "execution_count": 3,
   "id": "9d8f6b4e",
   "metadata": {},
   "outputs": [],
   "source": [
    "path = 'input/'"
   ]
  },
  {
   "cell_type": "code",
   "execution_count": 4,
   "id": "5758e748",
   "metadata": {},
   "outputs": [
    {
     "name": "stderr",
     "output_type": "stream",
     "text": [
      "                                                                                \r"
     ]
    }
   ],
   "source": [
    "df = spark.read.json(path)"
   ]
  },
  {
   "cell_type": "code",
   "execution_count": 17,
   "id": "b6e02296",
   "metadata": {},
   "outputs": [
    {
     "name": "stdout",
     "output_type": "stream",
     "text": [
      "root\n",
      " |-- cookTime: string (nullable = true)\n",
      " |-- datePublished: string (nullable = true)\n",
      " |-- description: string (nullable = true)\n",
      " |-- image: string (nullable = true)\n",
      " |-- ingredients: string (nullable = true)\n",
      " |-- name: string (nullable = true)\n",
      " |-- prepTime: string (nullable = true)\n",
      " |-- recipeYield: string (nullable = true)\n",
      " |-- url: string (nullable = true)\n",
      "\n"
     ]
    }
   ],
   "source": [
    "df.printSchema()"
   ]
  },
  {
   "cell_type": "code",
   "execution_count": 28,
   "id": "ae8f0523",
   "metadata": {},
   "outputs": [
    {
     "name": "stdout",
     "output_type": "stream",
     "text": [
      "+--------+--------+\n",
      "|prepTime|count(1)|\n",
      "+--------+--------+\n",
      "|    PT2M|       7|\n",
      "|   PT15M|     137|\n",
      "|    PT1H|      11|\n",
      "|   PT24H|       3|\n",
      "|  PT950M|       1|\n",
      "|    PT5M|     108|\n",
      "|    PT6M|       1|\n",
      "|    PT3M|       2|\n",
      "|      PT|       3|\n",
      "|    PT1M|       5|\n",
      "|   PT40M|       5|\n",
      "|   PT20M|      99|\n",
      "| PT1H15M|       1|\n",
      "|    PT6H|       3|\n",
      "|   PT60M|       7|\n",
      "|    PT4H|       4|\n",
      "|   PT18H|       1|\n",
      "|  PT900M|       1|\n",
      "|   PT65M|       1|\n",
      "|   PT35M|       3|\n",
      "+--------+--------+\n",
      "only showing top 20 rows\n",
      "\n"
     ]
    }
   ],
   "source": [
    "df.groupBy(\"prepTime\").agg(count(\"*\")).show()"
   ]
  },
  {
   "cell_type": "code",
   "execution_count": 30,
   "id": "180b3233",
   "metadata": {},
   "outputs": [
    {
     "name": "stdout",
     "output_type": "stream",
     "text": [
      "+--------------------------------------------+--------+\n",
      "|recipeYield                                 |count(1)|\n",
      "+--------------------------------------------+--------+\n",
      "|Makes four sandwiches.                      |1       |\n",
      "|Serves about 4 - 6 as a side.               |1       |\n",
      "|Makes two mega scones.                      |1       |\n",
      "|Makes about 1 1/2 to 2 cups of puree.       |1       |\n",
      "|7                                           |1       |\n",
      "|Serves 2 - 4.                               |4       |\n",
      "|Makes ~1 1/2 cups of spread.                |1       |\n",
      "|Makes 18 - 24 medium cookies.               |1       |\n",
      "|Makes a big pot - enough for 8 -10 servings.|1       |\n",
      "|Serves 12 - 16 modest slices.               |1       |\n",
      "|Makes 2 dozen wide-cut fries.               |1       |\n",
      "|Serves about 12.                            |2       |\n",
      "|Makes one generous, family-style platter.   |1       |\n",
      "|Makes one carrot cake.                      |1       |\n",
      "|Serves 6 or more.                           |1       |\n",
      "|Makes ~2/3 cup.                             |1       |\n",
      "|Serves 2 - 3 as a main, 4 as a side         |1       |\n",
      "|Serves about 8.                             |3       |\n",
      "|3                                           |3       |\n",
      "|Makes one 9 or 10-inch pie.                 |1       |\n",
      "+--------------------------------------------+--------+\n",
      "only showing top 20 rows\n",
      "\n"
     ]
    }
   ],
   "source": [
    "df.groupBy(\"recipeYield\").agg(count(\"*\")).show(truncate=False)"
   ]
  },
  {
   "cell_type": "code",
   "execution_count": 15,
   "id": "6512dc41",
   "metadata": {},
   "outputs": [
    {
     "data": {
      "text/plain": [
       "1042"
      ]
     },
     "execution_count": 15,
     "metadata": {},
     "output_type": "execute_result"
    }
   ],
   "source": [
    "df.count()"
   ]
  },
  {
   "cell_type": "code",
   "execution_count": 26,
   "id": "32203d45",
   "metadata": {},
   "outputs": [],
   "source": [
    "beefDF = df.filter(lower(col(\"ingredients\")).contains(\"beef\"))"
   ]
  },
  {
   "cell_type": "code",
   "execution_count": 31,
   "id": "d8fd1772",
   "metadata": {},
   "outputs": [
    {
     "data": {
      "text/plain": [
       "47"
      ]
     },
     "execution_count": 31,
     "metadata": {},
     "output_type": "execute_result"
    }
   ],
   "source": [
    "beefDF.count()"
   ]
  },
  {
   "cell_type": "code",
   "execution_count": 46,
   "id": "deb5af73",
   "metadata": {},
   "outputs": [
    {
     "name": "stdout",
     "output_type": "stream",
     "text": [
      "+--------+-------------+-----------+-----+-----------+----+--------+-----------+---+\n",
      "|cookTime|datePublished|description|image|ingredients|name|prepTime|recipeYield|url|\n",
      "+--------+-------------+-----------+-----+-----------+----+--------+-----------+---+\n",
      "+--------+-------------+-----------+-----+-----------+----+--------+-----------+---+\n",
      "\n"
     ]
    }
   ],
   "source": [
    "df.where(col(\"ingredients\").isNull() | (col(\"ingredients\")==\"\")).show()"
   ]
  },
  {
   "cell_type": "code",
   "execution_count": 47,
   "id": "9ba6c2ad",
   "metadata": {},
   "outputs": [],
   "source": [
    "###########"
   ]
  },
  {
   "cell_type": "code",
   "execution_count": 61,
   "id": "878b2556",
   "metadata": {},
   "outputs": [],
   "source": [
    "from pyspark.sql.types import DateType, StringType, StructField, StructType\n",
    "\n",
    "\n",
    "class RecipeSchema:\n",
    "    RECIPE = StructType(\n",
    "        [\n",
    "            StructField(\"name\", StringType(), nullable=False),\n",
    "            StructField(\"ingredients\", StringType(), nullable=False),\n",
    "            StructField(\"url\", StringType()),\n",
    "            StructField(\"image\", StringType()),\n",
    "            StructField(\"cookTime\", StringType()),\n",
    "            StructField(\"recipeYield\", StringType()),\n",
    "            StructField(\"datePublished\", DateType()),\n",
    "            StructField(\"prepTime\", StringType()),\n",
    "            StructField(\"description\", StringType()),\n",
    "        ]\n",
    "    )"
   ]
  },
  {
   "cell_type": "code",
   "execution_count": 76,
   "id": "d17f119c",
   "metadata": {},
   "outputs": [],
   "source": [
    "df = spark.read.json(path, schema=RecipeSchema.RECIPE).withColumn(\n",
    "    'cookTime_sec', \n",
    "    coalesce(regexp_extract('cookTime', r'(\\d+)H', 1).cast('int'), F.lit(0)) * 3600 + \n",
    "    coalesce(regexp_extract('cookTime', r'(\\d+)M', 1).cast('int'), F.lit(0)) * 60 + \n",
    "    coalesce(regexp_extract('cookTime', r'(\\d+)S', 1).cast('int'), F.lit(0))\n",
    ").withColumn(\n",
    "    'prepTime_sec', \n",
    "    coalesce(regexp_extract('prepTime', r'(\\d+)H', 1).cast('int'), F.lit(0)) * 3600 + \n",
    "    coalesce(regexp_extract('prepTime', r'(\\d+)M', 1).cast('int'), F.lit(0)) * 60 + \n",
    "    coalesce(regexp_extract('prepTime', r'(\\d+)S', 1).cast('int'), F.lit(0))\n",
    ").withColumn('year',year(col('datePublished')))\n",
    "\n",
    "# https://stackoverflow.com/questions/67338933/how-to-convert-a-time-value-inside-a-string-from-pt-format-to-seconds"
   ]
  },
  {
   "cell_type": "code",
   "execution_count": 77,
   "id": "0c4512da",
   "metadata": {},
   "outputs": [
    {
     "name": "stdout",
     "output_type": "stream",
     "text": [
      "root\n",
      " |-- name: string (nullable = true)\n",
      " |-- ingredients: string (nullable = true)\n",
      " |-- url: string (nullable = true)\n",
      " |-- image: string (nullable = true)\n",
      " |-- cookTime: string (nullable = true)\n",
      " |-- recipeYield: string (nullable = true)\n",
      " |-- datePublished: date (nullable = true)\n",
      " |-- prepTime: string (nullable = true)\n",
      " |-- description: string (nullable = true)\n",
      " |-- cookTime_sec: integer (nullable = false)\n",
      " |-- prepTime_sec: integer (nullable = false)\n",
      " |-- year: integer (nullable = true)\n",
      "\n"
     ]
    }
   ],
   "source": [
    "df.printSchema()"
   ]
  },
  {
   "cell_type": "code",
   "execution_count": 78,
   "id": "173acb77",
   "metadata": {},
   "outputs": [
    {
     "name": "stdout",
     "output_type": "stream",
     "text": [
      "+--------------------+--------------------+--------------------+--------------------+--------+-----------+-------------+--------+--------------------+------------+------------+----+\n",
      "|                name|         ingredients|                 url|               image|cookTime|recipeYield|datePublished|prepTime|         description|cookTime_sec|prepTime_sec|year|\n",
      "+--------------------+--------------------+--------------------+--------------------+--------+-----------+-------------+--------+--------------------+------------+------------+----+\n",
      "|Creamy Cheese Gri...|4-1/2 cups Water\n",
      "...|http://thepioneer...|http://static.the...|   PT45M|          8|   2010-10-14|    PT5M|I have a good, ba...|        2700|         300|2010|\n",
      "|     Big Steak Salad|2 whole Rib-eye O...|http://thepioneer...|http://static.the...|   PT20M|          4|   2010-10-20|    PT1M|There are few thi...|        1200|          60|2010|\n",
      "|My Favorite Turke...|3 cups Apple Juic...|http://thepioneer...|http://static.the...|   PT15M|         18|   2010-10-26|   PT10M|It's time.     It...|         900|         600|2010|\n",
      "|Spaghetti Squash ...|2 whole Medium Sp...|http://thepioneer...|http://static.the...|    PT1H|          8|   2010-10-27|   PT10M|In the next post,...|        3600|         600|2010|\n",
      "|Pear Clafouti, Th...|2 whole Pears\n",
      "2 t...|http://thepioneer...|http://static.the...|   PT45M|         12|   2010-11-01|   PT15M|I decided to make...|        2700|         900|2010|\n",
      "|Soul Sweet ‘Tater...|4 whole Medium Sw...|http://thepioneer...|http://static.the...|   PT30M|         10|   2010-10-29|   PT45M|Well, shiver me t...|        1800|        2700|2010|\n",
      "|Cranberry-Pomegra...|1 bag (about 12 T...|http://thepioneer...|http://static.the...|   PT15M|         12|   2010-11-04|    PT2M|I love cranberry ...|         900|         120|2010|\n",
      "|Green Bean Casserole|2 pounds Fresh Gr...|http://thepioneer...|http://static.the...|   PT30M|          8|   2010-11-08|   PT20M|Thanksgiving is j...|        1800|        1200|2010|\n",
      "|    Dreamy Apple Pie|1 whole Unbaked P...|http://thepioneer...|http://static.the...|    PT1H|         12|   2010-11-15|   PT20M|It's Pie Week her...|        3600|        1200|2010|\n",
      "|          Hard Sauce|1 stick (1/2 Cup)...|http://thepioneer...|http://static.the...|      PT|          8|   2010-11-14|    PT5M|I'm posting this ...|           0|         300|2010|\n",
      "|   Pumpkin Cream Pie| FOR THE CRUST:\n",
      "1...|http://thepioneer...|http://static.the...|   PT20M|          8|   2010-11-16|    PT2H|I'm getting ready...|        1200|        7200|2010|\n",
      "|Nantucket Cranber...| Butter, For Grea...|http://thepioneer...|http://static.the...|   PT45M|         10|   2010-11-17|   PT10M|\"There once was a...|        2700|         600|2010|\n",
      "|French Onion Soup...|2 Tablespoons But...|http://thepioneer...|http://static.the...|   PT30M|          8|   2010-11-23|   PT20M|Important note: t...|        1800|        1200|2010|\n",
      "|  Parker House Rolls|4 cups Whole Milk...|http://thepioneer...|http://static.the...|   PT15M|         36|   2010-11-22|    PT3H|Wanted to thank y...|         900|       10800|2010|\n",
      "|Dulce de Leche Co...|4 cups Strongly B...|http://thepioneer...|http://static.the...|      PT|          6|   2010-11-28|   PT10M|Original post: Ja...|           0|         600|2010|\n",
      "|Whiskey Maple Cre...|1-1/2 cup Heavy C...|http://thepioneer...|http://static.the...|   PT15M|         12|   2010-11-24|    PT5M|(Note: I'm runnin...|         900|         300|2010|\n",
      "|        Brandy Snaps| COOKIE\n",
      "1 stick B...|http://thepioneer...|http://static.the...|   PT10M|         16|   2010-11-29|   PT10M|These are incredi...|         600|         600|2010|\n",
      "|  Christmas Cherries|2 sticks Butter, ...|http://thepioneer...|http://static.the...|   PT20M|         36|   2010-11-30| PT1H15M|In case you didn'...|        1200|        4500|2010|\n",
      "|Cleta Bailey’s To...|2 sticks Butter\n",
      "1...|http://thepioneer...|http://static.the...|   PT15M|         24|   2010-12-01|   PT10M|Next up, I'm thin...|         900|         600|2010|\n",
      "|   Easy Mulligatawny|1 whole Boneless ...|http://thepioneer...|http://static.the...|   PT15M|          8|   2010-12-13|    PT5M|I can't hear the ...|         900|         300|2010|\n",
      "+--------------------+--------------------+--------------------+--------------------+--------+-----------+-------------+--------+--------------------+------------+------------+----+\n",
      "only showing top 20 rows\n",
      "\n"
     ]
    }
   ],
   "source": [
    "df.show()"
   ]
  },
  {
   "cell_type": "code",
   "execution_count": 80,
   "id": "6ccfb4f3",
   "metadata": {},
   "outputs": [
    {
     "name": "stderr",
     "output_type": "stream",
     "text": [
      "                                                                                \r"
     ]
    },
    {
     "name": "stdout",
     "output_type": "stream",
     "text": [
      "+----+--------+\n",
      "|year|count(1)|\n",
      "+----+--------+\n",
      "|2003|       4|\n",
      "|2007|      94|\n",
      "|2006|      35|\n",
      "|2013|      36|\n",
      "|2004|      12|\n",
      "|2012|     137|\n",
      "|2009|     172|\n",
      "|2005|      44|\n",
      "|2010|     170|\n",
      "|2011|     157|\n",
      "|2008|     181|\n",
      "+----+--------+\n",
      "\n"
     ]
    }
   ],
   "source": [
    "df.groupBy(\"year\").agg(count(\"*\")).show()"
   ]
  },
  {
   "cell_type": "code",
   "execution_count": 82,
   "id": "bc94f759",
   "metadata": {},
   "outputs": [
    {
     "name": "stderr",
     "output_type": "stream",
     "text": [
      "                                                                                \r"
     ]
    }
   ],
   "source": [
    "# repartition subject to change based on data\n",
    "df.repartition(2).write.partitionBy(\"year\").mode(\"overwrite\").parquet(\"pre_processed_data\")"
   ]
  },
  {
   "cell_type": "code",
   "execution_count": 90,
   "id": "7a310362",
   "metadata": {},
   "outputs": [],
   "source": [
    "df = spark.read.parquet(\"pre_processed_data\").filter(lower(col(\"ingredients\")).contains(\"beef\"))"
   ]
  },
  {
   "cell_type": "code",
   "execution_count": 92,
   "id": "1396a429",
   "metadata": {},
   "outputs": [
    {
     "name": "stderr",
     "output_type": "stream",
     "text": [
      "\r",
      "[Stage 82:==========================================================(1 + 0) / 1]\r",
      "\r",
      "                                                                                \r"
     ]
    },
    {
     "data": {
      "text/plain": [
       "47"
      ]
     },
     "execution_count": 92,
     "metadata": {},
     "output_type": "execute_result"
    }
   ],
   "source": [
    "df.count()"
   ]
  },
  {
   "cell_type": "code",
   "execution_count": 123,
   "id": "a7be3553",
   "metadata": {},
   "outputs": [],
   "source": [
    "op = df.withColumn(\"total_cook_time\",col(\"cookTime_sec\")+col(\"prepTime_sec\")).withColumn(\"difficulty\",\n",
    "when(\n",
    "(col(\"total_cook_time\") < 1800),lit(\"EASY\")\n",
    ").otherwise(\n",
    "when(\n",
    "(col(\"total_cook_time\") >= 1800) & (col(\"total_cook_time\") <= 3600),lit(\"MEDIUM\")\n",
    ").otherwise(\n",
    "when(\n",
    "(col(\"total_cook_time\") > 3600),lit(\"HARD\"))\n",
    "))).groupBy(\"difficulty\").agg((avg(col(\"total_cook_time\"))/60).alias(\"avg_total_cooking_time\"))"
   ]
  },
  {
   "cell_type": "code",
   "execution_count": 124,
   "id": "daf1b76e",
   "metadata": {},
   "outputs": [
    {
     "name": "stderr",
     "output_type": "stream",
     "text": [
      "\r",
      "[Stage 119:=====================================>                (69 + 1) / 100]\r",
      "\r",
      "                                                                                \r"
     ]
    },
    {
     "name": "stdout",
     "output_type": "stream",
     "text": [
      "+----------+----------------------+\n",
      "|difficulty|avg_total_cooking_time|\n",
      "+----------+----------------------+\n",
      "|      EASY|                19.625|\n",
      "|    MEDIUM|                  45.0|\n",
      "|      HARD|     194.3913043478261|\n",
      "+----------+----------------------+\n",
      "\n"
     ]
    }
   ],
   "source": [
    "op.show()"
   ]
  },
  {
   "cell_type": "code",
   "execution_count": 125,
   "id": "55748a0f",
   "metadata": {},
   "outputs": [
    {
     "name": "stderr",
     "output_type": "stream",
     "text": [
      "                                                                                \r"
     ]
    }
   ],
   "source": [
    "op.repartition(1).write.option(\"header\",\"true\").mode(\"overwrite\").csv(\"output\")"
   ]
  },
  {
   "cell_type": "code",
   "execution_count": null,
   "id": "96ef516f",
   "metadata": {},
   "outputs": [],
   "source": []
  }
 ],
 "metadata": {
  "kernelspec": {
   "display_name": "Python 3 (ipykernel)",
   "language": "python",
   "name": "python3"
  },
  "language_info": {
   "codemirror_mode": {
    "name": "ipython",
    "version": 3
   },
   "file_extension": ".py",
   "mimetype": "text/x-python",
   "name": "python",
   "nbconvert_exporter": "python",
   "pygments_lexer": "ipython3",
   "version": "3.9.8"
  }
 },
 "nbformat": 4,
 "nbformat_minor": 5
}
